{
  "nbformat": 4,
  "nbformat_minor": 0,
  "metadata": {
    "colab": {
      "provenance": [],
      "gpuType": "T4"
    },
    "kernelspec": {
      "name": "python3",
      "display_name": "Python 3"
    },
    "language_info": {
      "name": "python"
    },
    "accelerator": "GPU"
  },
  "cells": [
    {
      "cell_type": "markdown",
      "source": [
        "# 技术交流及问题讨论：\n",
        "#   公众号：AIProall\n",
        "#   微信：ai285016567（参照X上大神的方法创建）"
      ],
      "metadata": {
        "id": "lQFGQnG5j3Zc"
      }
    },
    {
      "cell_type": "code",
      "source": [
        "%cd /content\n",
        "!git clone -b dev https://github.com/camenduru/dreamtalk\n",
        "%cd /content/dreamtalk\n",
        "\n",
        "!wget https://huggingface.co/camenduru/dreamtalk/resolve/main/damo/dreamtalk/checkpoints/denoising_network.pth -O /content/dreamtalk/checkpoints/denoising_network.pth\n",
        "!wget https://huggingface.co/camenduru/dreamtalk/resolve/main/damo/dreamtalk/checkpoints/renderer.pt -O /content/dreamtalk/checkpoints/renderer.pt\n",
        "\n",
        "!pip install -q yacs av gradio\n",
        "\n",
        "# https://huggingface.co/spaces/fffiloni/dreamtalk/blob/main/app.py modified\n",
        "\n",
        "import gradio as gr\n",
        "import subprocess\n",
        "from moviepy.editor import VideoFileClip\n",
        "import datetime\n",
        "\n",
        "def convert_to_mp4_with_aac(input_path, output_path):\n",
        "    video = VideoFileClip(input_path)\n",
        "    video.write_videofile(output_path, codec=\"libx264\", audio_codec=\"aac\")\n",
        "    return output_path\n",
        "\n",
        "def check_file_exists(file_path, audio_list):\n",
        "    return file_path in audio_list\n",
        "\n",
        "def load_audio(audio_listed):\n",
        "    if audio_listed is None:\n",
        "        return None\n",
        "    else:\n",
        "        return f\"data/audio/{audio_listed}\"\n",
        "\n",
        "def execute_command(command: str) -> None:\n",
        "    subprocess.run(command, check=True)\n",
        "\n",
        "def infer(audio_input, image_path, emotional_style):\n",
        "    timestamp = datetime.datetime.now().strftime(\"%Y%m%d%H%M%S\")\n",
        "    output_name = f\"lipsynced_result_{timestamp}\"\n",
        "    command = [\n",
        "        f\"python\",\n",
        "        f\"inference_for_demo_video.py\",\n",
        "        f\"--wav_path={audio_input}\",\n",
        "        f\"--style_clip_path=data/style_clip/3DMM/{emotional_style}\",\n",
        "        f\"--pose_path=data/pose/RichardShelby_front_neutral_level1_001.mat\",\n",
        "        f\"--image_path={image_path}\",\n",
        "        f\"--cfg_scale=1.0\",\n",
        "        f\"--max_gen_len=70\",\n",
        "        f\"--output_name={output_name}\"\n",
        "    ]\n",
        "\n",
        "    execute_command(command)\n",
        "    input_file = f\"output_video/{output_name}.mp4\"\n",
        "    output_file = f\"{output_name}.mp4\"\n",
        "    result = convert_to_mp4_with_aac(input_file, output_file)\n",
        "    return result\n",
        "\n",
        "css=\"\"\"\n",
        "#project-links{\n",
        "    margin: 0 0 12px !important;\n",
        "    column-gap: 8px;\n",
        "    display: flex;\n",
        "    justify-content: center;\n",
        "    flex-wrap: nowrap;\n",
        "    flex-direction: row;\n",
        "    align-items: center;\n",
        "}\n",
        "\"\"\"\n",
        "with gr.Blocks(css=css) as demo:\n",
        "    with gr.Column(elem_id=\"col-container\"):\n",
        "        gr.HTML(\"\"\"\n",
        "        <h2 style=\"text-align: center;\">DreamTalk</h2>\n",
        "        <p style=\"text-align: center;\">When Expressive Talking Head Generation Meets Diffusion Probabilistic Models</p>\n",
        "        \"\"\")\n",
        "        with gr.Row():\n",
        "            with gr.Column():\n",
        "                image_path = gr.Image(label=\"Image\", type=\"filepath\", sources=[\"upload\"])\n",
        "                audio_input = gr.Audio(label=\"Audio input\", type=\"filepath\", sources=[\"upload\"], value=\"data/audio/acknowledgement_english.m4a\")\n",
        "                with gr.Row():\n",
        "                    audio_list = gr.Dropdown(\n",
        "                        label=\"Choose an audio (optional)\",\n",
        "                        choices=[\n",
        "                            \"German1.wav\", \"German2.wav\", \"German3.wav\", \"German4.wav\",\n",
        "                            \"acknowledgement_chinese.m4a\", \"acknowledgement_english.m4a\",\n",
        "                            \"chinese1_haierlizhi.wav\", \"chinese2_guanyu.wav\",\n",
        "                            \"french1.wav\", \"french2.wav\", \"french3.wav\",\n",
        "                            \"italian1.wav\", \"italian2.wav\", \"italian3.wav\",\n",
        "                            \"japan1.wav\", \"japan2.wav\", \"japan3.wav\",\n",
        "                            \"korean1.wav\", \"korean2.wav\", \"korean3.wav\",\n",
        "                            \"noisy_audio_cafeter_snr_0.wav\", \"noisy_audio_meeting_snr_0.wav\", \"noisy_audio_meeting_snr_10.wav\", \"noisy_audio_meeting_snr_20.wav\", \"noisy_audio_narrative.wav\", \"noisy_audio_office_snr_0.wav\", \"out_of_domain_narrative.wav\",\n",
        "                            \"spanish1.wav\", \"spanish2.wav\", \"spanish3.wav\"\n",
        "                            ],\n",
        "                        value = \"acknowledgement_english.m4a\"\n",
        "                    )\n",
        "                    audio_list.change(\n",
        "                        fn = load_audio,\n",
        "                        inputs = [audio_list],\n",
        "                        outputs = [audio_input]\n",
        "                    )\n",
        "                    emotional_style = gr.Dropdown(\n",
        "                        label = \"emotional style\",\n",
        "                        choices = [\n",
        "                            \"M030_front_angry_level3_001.mat\",\n",
        "                            \"M030_front_contempt_level3_001.mat\",\n",
        "                            \"M030_front_disgusted_level3_001.mat\",\n",
        "                            \"M030_front_fear_level3_001.mat\",\n",
        "                            \"M030_front_happy_level3_001.mat\",\n",
        "                            \"M030_front_neutral_level1_001.mat\",\n",
        "                            \"M030_front_sad_level3_001.mat\",\n",
        "                            \"M030_front_surprised_level3_001.mat\",\n",
        "                            \"W009_front_angry_level3_001.mat\",\n",
        "                            \"W009_front_contempt_level3_001.mat\",\n",
        "                            \"W009_front_disgusted_level3_001.mat\",\n",
        "                            \"W009_front_fear_level3_001.mat\",\n",
        "                            \"W009_front_happy_level3_001.mat\",\n",
        "                            \"W009_front_neutral_level1_001.mat\",\n",
        "                            \"W009_front_sad_level3_001.mat\",\n",
        "                            \"W009_front_surprised_level3_001.mat\",\n",
        "                            \"W011_front_angry_level3_001.mat\",\n",
        "                            \"W011_front_contempt_level3_001.mat\",\n",
        "                            \"W011_front_disgusted_level3_001.mat\",\n",
        "                            \"W011_front_fear_level3_001.mat\",\n",
        "                            \"W011_front_happy_level3_001.mat\",\n",
        "                            \"W011_front_neutral_level1_001.mat\",\n",
        "                            \"W011_front_sad_level3_001.mat\",\n",
        "                            \"W011_front_surprised_level3_001.mat\"\n",
        "                        ],\n",
        "                        value = \"M030_front_neutral_level1_001.mat\"\n",
        "                    )\n",
        "                gr.Examples(\n",
        "                    examples = [\n",
        "                        \"data/src_img/uncropped/face3.png\",\n",
        "                        \"data/src_img/uncropped/male_face.png\",\n",
        "                        \"data/src_img/uncropped/uncut_src_img.jpg\",\n",
        "                        \"data/src_img/cropped/chpa5.png\",\n",
        "                        \"data/src_img/cropped/cut_img.png\",\n",
        "                        \"data/src_img/cropped/f30.png\",\n",
        "                        \"data/src_img/cropped/menglu2.png\",\n",
        "                        \"data/src_img/cropped/nscu2.png\",\n",
        "                        \"data/src_img/cropped/zp1.png\",\n",
        "                        \"data/src_img/cropped/zt12.png\"\n",
        "                    ],\n",
        "                    inputs=[image_path],\n",
        "                    examples_per_page=5\n",
        "                )\n",
        "                with gr.Row():\n",
        "                    gr.ClearButton([audio_input, image_path, audio_list])\n",
        "                    run_btn = gr.Button(\"Run\", elem_id=\"run-btn\")\n",
        "            with gr.Column():\n",
        "                output_video = gr.Video(format=\"mp4\")\n",
        "                gr.HTML(\"\"\"\n",
        "                <p id=\"project-links\" align=\"center\">\n",
        "                  <a href='https://dreamtalk-project.github.io/'><img src='https://img.shields.io/badge/Project-Page-Green'></a> <a href='https://arxiv.org/abs/2312.09767'><img src='https://img.shields.io/badge/Paper-Arxiv-red'></a> <a href='https://youtu.be/VF4vlE6ZqWQ'><img src='https://badges.aleen42.com/src/youtube.svg'></a>\n",
        "                </p>\n",
        "                <img src=\"https://github.com/ali-vilab/dreamtalk/raw/main/media/teaser.gif\" style=\"margin: 0 auto;border-radius: 10px;\" />\n",
        "                \"\"\")\n",
        "\n",
        "    run_btn.click(\n",
        "        fn = infer,\n",
        "        inputs = [audio_input, image_path, emotional_style],\n",
        "        outputs = [output_video]\n",
        "    )\n",
        "\n",
        "demo.queue().launch(inline=False, share=True, debug=True)"
      ],
      "metadata": {
        "id": "asQXT428jzHk",
        "colab": {
          "base_uri": "https://localhost:8080/"
        },
        "outputId": "668490aa-f3ff-4acd-d86b-006bdd1dfcfb"
      },
      "execution_count": 2,
      "outputs": [
        {
          "output_type": "stream",
          "name": "stdout",
          "text": [
            "/content\n",
            "fatal: destination path 'dreamtalk' already exists and is not an empty directory.\n",
            "/content/dreamtalk\n",
            "--2025-06-27 15:01:30--  https://huggingface.co/camenduru/dreamtalk/resolve/main/damo/dreamtalk/checkpoints/denoising_network.pth\n",
            "Resolving huggingface.co (huggingface.co)... 18.164.174.118, 18.164.174.23, 18.164.174.55, ...\n",
            "Connecting to huggingface.co (huggingface.co)|18.164.174.118|:443... connected.\n",
            "HTTP request sent, awaiting response... 302 Found\n",
            "Location: https://cdn-lfs-us-1.hf.co/repos/12/d0/12d04da432c426f121297a0e52a95d635674fc5b6a26775a732b59caa5c94a4e/93864d1316f60e75b40bd820707bb2464f790b1636ae2b9275ee500d41c4e3ae?response-content-disposition=inline%3B+filename*%3DUTF-8%27%27denoising_network.pth%3B+filename%3D%22denoising_network.pth%22%3B&Expires=1751040090&Policy=eyJTdGF0ZW1lbnQiOlt7IkNvbmRpdGlvbiI6eyJEYXRlTGVzc1RoYW4iOnsiQVdTOkVwb2NoVGltZSI6MTc1MTA0MDA5MH19LCJSZXNvdXJjZSI6Imh0dHBzOi8vY2RuLWxmcy11cy0xLmhmLmNvL3JlcG9zLzEyL2QwLzEyZDA0ZGE0MzJjNDI2ZjEyMTI5N2EwZTUyYTk1ZDYzNTY3NGZjNWI2YTI2Nzc1YTczMmI1OWNhYTVjOTRhNGUvOTM4NjRkMTMxNmY2MGU3NWI0MGJkODIwNzA3YmIyNDY0Zjc5MGIxNjM2YWUyYjkyNzVlZTUwMGQ0MWM0ZTNhZT9yZXNwb25zZS1jb250ZW50LWRpc3Bvc2l0aW9uPSoifV19&Signature=SIteysgCY08oVQlid4osc0EgY3LmepuNudxRNGJfHDn6xDv9CdD2d1LbzISuNRJlkazZxkB6O0isyrI2s8snfFXX78B%7E8KgLfoGGbfSQm2emiawK19AoBciNz2swajlQ%7Et-NQ5%7EDALqY8kfpTGUglgG9CKTUGlkiB7Bt60T4xZVr5y1E0n7gMv349aERruR9bP3iQnRGWafp1TVZm3Sn0aJZsZVxyrJ3z3Vd3uusWN31ByUI8vkERi1-tKOXVhgmTzrWhM-ihNgplSQZTm7JU4kFhaY6tvDRF70HMdj1CsA-NVQ%7Ej8w-nRA5fAL3VdgeDG4K285JckCYhXtUnLfQlg__&Key-Pair-Id=K24J24Z295AEI9 [following]\n",
            "--2025-06-27 15:01:30--  https://cdn-lfs-us-1.hf.co/repos/12/d0/12d04da432c426f121297a0e52a95d635674fc5b6a26775a732b59caa5c94a4e/93864d1316f60e75b40bd820707bb2464f790b1636ae2b9275ee500d41c4e3ae?response-content-disposition=inline%3B+filename*%3DUTF-8%27%27denoising_network.pth%3B+filename%3D%22denoising_network.pth%22%3B&Expires=1751040090&Policy=eyJTdGF0ZW1lbnQiOlt7IkNvbmRpdGlvbiI6eyJEYXRlTGVzc1RoYW4iOnsiQVdTOkVwb2NoVGltZSI6MTc1MTA0MDA5MH19LCJSZXNvdXJjZSI6Imh0dHBzOi8vY2RuLWxmcy11cy0xLmhmLmNvL3JlcG9zLzEyL2QwLzEyZDA0ZGE0MzJjNDI2ZjEyMTI5N2EwZTUyYTk1ZDYzNTY3NGZjNWI2YTI2Nzc1YTczMmI1OWNhYTVjOTRhNGUvOTM4NjRkMTMxNmY2MGU3NWI0MGJkODIwNzA3YmIyNDY0Zjc5MGIxNjM2YWUyYjkyNzVlZTUwMGQ0MWM0ZTNhZT9yZXNwb25zZS1jb250ZW50LWRpc3Bvc2l0aW9uPSoifV19&Signature=SIteysgCY08oVQlid4osc0EgY3LmepuNudxRNGJfHDn6xDv9CdD2d1LbzISuNRJlkazZxkB6O0isyrI2s8snfFXX78B%7E8KgLfoGGbfSQm2emiawK19AoBciNz2swajlQ%7Et-NQ5%7EDALqY8kfpTGUglgG9CKTUGlkiB7Bt60T4xZVr5y1E0n7gMv349aERruR9bP3iQnRGWafp1TVZm3Sn0aJZsZVxyrJ3z3Vd3uusWN31ByUI8vkERi1-tKOXVhgmTzrWhM-ihNgplSQZTm7JU4kFhaY6tvDRF70HMdj1CsA-NVQ%7Ej8w-nRA5fAL3VdgeDG4K285JckCYhXtUnLfQlg__&Key-Pair-Id=K24J24Z295AEI9\n",
            "Resolving cdn-lfs-us-1.hf.co (cdn-lfs-us-1.hf.co)... 3.169.231.98, 3.169.231.121, 3.169.231.83, ...\n",
            "Connecting to cdn-lfs-us-1.hf.co (cdn-lfs-us-1.hf.co)|3.169.231.98|:443... connected.\n",
            "HTTP request sent, awaiting response... 200 OK\n",
            "Length: 47908943 (46M) [binary/octet-stream]\n",
            "Saving to: ‘/content/dreamtalk/checkpoints/denoising_network.pth’\n",
            "\n",
            "/content/dreamtalk/ 100%[===================>]  45.69M   240MB/s    in 0.2s    \n",
            "\n",
            "2025-06-27 15:01:30 (240 MB/s) - ‘/content/dreamtalk/checkpoints/denoising_network.pth’ saved [47908943/47908943]\n",
            "\n",
            "--2025-06-27 15:01:31--  https://huggingface.co/camenduru/dreamtalk/resolve/main/damo/dreamtalk/checkpoints/renderer.pt\n",
            "Resolving huggingface.co (huggingface.co)... 108.138.246.79, 108.138.246.67, 108.138.246.85, ...\n",
            "Connecting to huggingface.co (huggingface.co)|108.138.246.79|:443... connected.\n",
            "HTTP request sent, awaiting response... 302 Found\n",
            "Location: https://cdn-lfs-us-1.hf.co/repos/12/d0/12d04da432c426f121297a0e52a95d635674fc5b6a26775a732b59caa5c94a4e/a67014839d42d592255c9fc3b3ceecbcd62c27ce0c0a89ed6628292447404242?response-content-disposition=inline%3B+filename*%3DUTF-8%27%27renderer.pt%3B+filename%3D%22renderer.pt%22%3B&Expires=1751040091&Policy=eyJTdGF0ZW1lbnQiOlt7IkNvbmRpdGlvbiI6eyJEYXRlTGVzc1RoYW4iOnsiQVdTOkVwb2NoVGltZSI6MTc1MTA0MDA5MX19LCJSZXNvdXJjZSI6Imh0dHBzOi8vY2RuLWxmcy11cy0xLmhmLmNvL3JlcG9zLzEyL2QwLzEyZDA0ZGE0MzJjNDI2ZjEyMTI5N2EwZTUyYTk1ZDYzNTY3NGZjNWI2YTI2Nzc1YTczMmI1OWNhYTVjOTRhNGUvYTY3MDE0ODM5ZDQyZDU5MjI1NWM5ZmMzYjNjZWVjYmNkNjJjMjdjZTBjMGE4OWVkNjYyODI5MjQ0NzQwNDI0Mj9yZXNwb25zZS1jb250ZW50LWRpc3Bvc2l0aW9uPSoifV19&Signature=FirPqaX-meiS087DU%7ELO93iJDU6P06v8vWVRd3EM%7E9h8E16czZB0RBydylhy8tSuUAMlTTP3urnMIxduQNn1rKPNlwjmxIr7Hb5EqNX%7Ebbe%7ESfWPQyxGwXDaKN%7EWJaLubYiufeKBDQBc%7E4SjzHu6yElP6x0Ig1j8g7F75AtVnRM9Xoz7dab%7EoffyUThocKGL8p7ENSvGYxJ1t78l%7EJdvPfC3bU2TwPISZutbkB8hgJkLy-gG0BHt1evN9xbazVcPFBAccTwzEhNj5sPBsL-c3YEEZFLE8O4M3jSjB8XLcNnLuGVAtjMYbAL06xXmBzCrs1UpMABQXrZydfF%7EUf5l7g__&Key-Pair-Id=K24J24Z295AEI9 [following]\n",
            "--2025-06-27 15:01:31--  https://cdn-lfs-us-1.hf.co/repos/12/d0/12d04da432c426f121297a0e52a95d635674fc5b6a26775a732b59caa5c94a4e/a67014839d42d592255c9fc3b3ceecbcd62c27ce0c0a89ed6628292447404242?response-content-disposition=inline%3B+filename*%3DUTF-8%27%27renderer.pt%3B+filename%3D%22renderer.pt%22%3B&Expires=1751040091&Policy=eyJTdGF0ZW1lbnQiOlt7IkNvbmRpdGlvbiI6eyJEYXRlTGVzc1RoYW4iOnsiQVdTOkVwb2NoVGltZSI6MTc1MTA0MDA5MX19LCJSZXNvdXJjZSI6Imh0dHBzOi8vY2RuLWxmcy11cy0xLmhmLmNvL3JlcG9zLzEyL2QwLzEyZDA0ZGE0MzJjNDI2ZjEyMTI5N2EwZTUyYTk1ZDYzNTY3NGZjNWI2YTI2Nzc1YTczMmI1OWNhYTVjOTRhNGUvYTY3MDE0ODM5ZDQyZDU5MjI1NWM5ZmMzYjNjZWVjYmNkNjJjMjdjZTBjMGE4OWVkNjYyODI5MjQ0NzQwNDI0Mj9yZXNwb25zZS1jb250ZW50LWRpc3Bvc2l0aW9uPSoifV19&Signature=FirPqaX-meiS087DU%7ELO93iJDU6P06v8vWVRd3EM%7E9h8E16czZB0RBydylhy8tSuUAMlTTP3urnMIxduQNn1rKPNlwjmxIr7Hb5EqNX%7Ebbe%7ESfWPQyxGwXDaKN%7EWJaLubYiufeKBDQBc%7E4SjzHu6yElP6x0Ig1j8g7F75AtVnRM9Xoz7dab%7EoffyUThocKGL8p7ENSvGYxJ1t78l%7EJdvPfC3bU2TwPISZutbkB8hgJkLy-gG0BHt1evN9xbazVcPFBAccTwzEhNj5sPBsL-c3YEEZFLE8O4M3jSjB8XLcNnLuGVAtjMYbAL06xXmBzCrs1UpMABQXrZydfF%7EUf5l7g__&Key-Pair-Id=K24J24Z295AEI9\n",
            "Resolving cdn-lfs-us-1.hf.co (cdn-lfs-us-1.hf.co)... 3.169.231.98, 3.169.231.121, 3.169.231.83, ...\n",
            "Connecting to cdn-lfs-us-1.hf.co (cdn-lfs-us-1.hf.co)|3.169.231.98|:443... connected.\n",
            "HTTP request sent, awaiting response... 200 OK\n",
            "Length: 335281551 (320M) [binary/octet-stream]\n",
            "Saving to: ‘/content/dreamtalk/checkpoints/renderer.pt’\n",
            "\n",
            "/content/dreamtalk/ 100%[===================>] 319.75M   249MB/s    in 1.3s    \n",
            "\n",
            "2025-06-27 15:01:32 (249 MB/s) - ‘/content/dreamtalk/checkpoints/renderer.pt’ saved [335281551/335281551]\n",
            "\n",
            "Colab notebook detected. This cell will run indefinitely so that you can see errors and logs. To turn off, set debug=False in launch().\n",
            "* Running on public URL: https://f5328d1fe2c34c21e3.gradio.live\n",
            "\n",
            "This share link expires in 1 week. For free permanent hosting and GPU upgrades, run `gradio deploy` from the terminal in the working directory to deploy to Hugging Face Spaces (https://huggingface.co/spaces)\n",
            "Moviepy - Building video lipsynced_result_20250627150342.mp4.\n",
            "MoviePy - Writing audio in lipsynced_result_20250627150342TEMP_MPY_wvf_snd.mp4\n"
          ]
        },
        {
          "output_type": "stream",
          "name": "stderr",
          "text": []
        },
        {
          "output_type": "stream",
          "name": "stdout",
          "text": [
            "MoviePy - Done.\n",
            "Moviepy - Writing video lipsynced_result_20250627150342.mp4\n",
            "\n"
          ]
        },
        {
          "output_type": "stream",
          "name": "stderr",
          "text": [
            "t:  98%|█████████▊| 408/415 [00:01<00:00, 245.90it/s, now=None]WARNING:py.warnings:/usr/local/lib/python3.11/dist-packages/moviepy/video/io/ffmpeg_reader.py:123: UserWarning: Warning: in file output_video/lipsynced_result_20250627150342.mp4, 196608 bytes wanted but 0 bytes read,at frame 414/415, at time 16.56/16.57 sec. Using the last valid frame instead.\n",
            "  warnings.warn(\"Warning: in file %s, \"%(self.filename)+\n",
            "\n"
          ]
        },
        {
          "output_type": "stream",
          "name": "stdout",
          "text": [
            "Moviepy - Done !\n",
            "Moviepy - video ready lipsynced_result_20250627150342.mp4\n",
            "Moviepy - Building video lipsynced_result_20250627150556.mp4.\n",
            "MoviePy - Writing audio in lipsynced_result_20250627150556TEMP_MPY_wvf_snd.mp4\n"
          ]
        },
        {
          "output_type": "stream",
          "name": "stderr",
          "text": []
        },
        {
          "output_type": "stream",
          "name": "stdout",
          "text": [
            "MoviePy - Done.\n",
            "Moviepy - Writing video lipsynced_result_20250627150556.mp4\n",
            "\n"
          ]
        },
        {
          "output_type": "stream",
          "name": "stderr",
          "text": [
            "t:  99%|█████████▉| 746/751 [00:02<00:00, 256.61it/s, now=None]WARNING:py.warnings:/usr/local/lib/python3.11/dist-packages/moviepy/video/io/ffmpeg_reader.py:123: UserWarning: Warning: in file output_video/lipsynced_result_20250627150556.mp4, 196608 bytes wanted but 0 bytes read,at frame 750/751, at time 30.00/30.02 sec. Using the last valid frame instead.\n",
            "  warnings.warn(\"Warning: in file %s, \"%(self.filename)+\n",
            "\n"
          ]
        },
        {
          "output_type": "stream",
          "name": "stdout",
          "text": [
            "Moviepy - Done !\n",
            "Moviepy - video ready lipsynced_result_20250627150556.mp4\n",
            "Keyboard interruption in main thread... closing server.\n",
            "Killing tunnel 127.0.0.1:7860 <> https://f5328d1fe2c34c21e3.gradio.live\n"
          ]
        },
        {
          "output_type": "execute_result",
          "data": {
            "text/plain": []
          },
          "metadata": {},
          "execution_count": 2
        }
      ]
    }
  ]
}